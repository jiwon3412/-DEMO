{
 "cells": [
  {
   "cell_type": "code",
   "execution_count": 5,
   "outputs": [
    {
     "name": "stdout",
     "output_type": "stream",
     "text": [
      "0\n",
      "1\n",
      "2\n",
      "3\n",
      "4\n",
      "5\n",
      "6\n",
      "7\n",
      "8\n",
      "9\n",
      "done\n",
      "8\n",
      "[[0. 0.]\n",
      " [0. 0.]\n",
      " [0. 0.]]\n"
     ]
    }
   ],
   "source": [
    "for n in range(10):\n",
    "    print(n)\n",
    "    pass\n",
    "print(\"done\")\n",
    "#현재 값: 변수 n.\n",
    "#그다음 넘어가 목록에 있는 모든 숫자에 대해 반복 수행\n",
    "print(2**3) #2의 3승"
   ],
   "metadata": {
    "collapsed": false,
    "pycharm": {
     "name": "#%%\n"
    }
   }
  },
  {
   "cell_type": "markdown",
   "source": [
    "배열 (Array): 신경망을 만들 때 배열을 이용하여 입력 신호, 가중치, 출력 신호의 행렬을 표현한다"
   ],
   "metadata": {
    "collapsed": false
   }
  },
  {
   "cell_type": "code",
   "execution_count": 8,
   "outputs": [
    {
     "name": "stdout",
     "output_type": "stream",
     "text": [
      "[[0. 0.]\n",
      " [0. 0.]\n",
      " [0. 0.]]\n",
      "[[ 1.  2.]\n",
      " [ 9.  0.]\n",
      " [ 0. 12.]]\n"
     ]
    }
   ],
   "source": [
    "#numpy는 배열 연산 등 유용한 기능을 포함하는 모듈\n",
    "a=numpy.zeros([3,2])\n",
    "print(a)\n",
    "#3*2형태의 배열 생성. 모든 원소는 0의 값을 가진다\n",
    "a[0,0]=1\n",
    "a[0,1]=2\n",
    "a[1,0]=9\n",
    "a[2,1]=12\n",
    "print(a)\n",
    "#1. 2.\n",
    "#9. 0.\n",
    "#0. 12."
   ],
   "metadata": {
    "collapsed": false,
    "pycharm": {
     "name": "#%%import numpy\n"
    }
   }
  },
  {
   "cell_type": "markdown",
   "source": [
    "배열 시각화"
   ],
   "metadata": {
    "collapsed": false
   }
  },
  {
   "cell_type": "code",
   "execution_count": 11,
   "outputs": [
    {
     "data": {
      "text/plain": "<matplotlib.image.AxesImage at 0x7f7275be76d0>"
     },
     "execution_count": 11,
     "metadata": {},
     "output_type": "execute_result"
    },
    {
     "data": {
      "text/plain": "<Figure size 432x288 with 1 Axes>",
      "image/png": "[encoded data removed]"
     },
     "metadata": {
      "needs_background": "light"
     },
     "output_type": "display_data"
    }
   ],
   "source": [
    "import matplotlib.pyplot\n",
    "%matplotlib inline\n",
    "#노트북 내에서 시각화 구현\n",
    "matplotlib.pyplot.imshow(a, interpolation=\"nearest\")\n",
    "#시각화: imshow 함수\n",
    "#후에 이 함수 신경망에서 전파되는 다양한 배열의 값들 시각화하는데 쓰일 수 있음"
   ],
   "metadata": {
    "collapsed": false,
    "pycharm": {
     "name": "#%%\n"
    }
   }
  },
  {
   "cell_type": "markdown",
   "source": [
    "객체 (object)\n",
    "클래스는 정의이며 객체는 그 정의를 현실에서 구현한 인스턴스이다.\n",
    "객체는 데이터와 함수를 가지고, 특정 코드가 속해야 하는 객체에 잘 정돈된다."
   ],
   "metadata": {
    "collapsed": false
   }
  },
  {
   "cell_type": "code",
   "execution_count": null,
   "outputs": [],
   "source": [
    "class Dog:\n",
    "    def bark(self):\n",
    "        print(\"woof!\")\n",
    "        pass\n",
    "    pass\n",
    "sizzles=Dog()\n",
    "sizzles.bark()\n",
    "#sizzles 는 dog 클래스의 형태를 가지고 생성된 객체이다.\n",
    "#이러한 객체를 클래스의 인스턴스라고 한다\n",
    "#bark() 함수는 클래스 정의 아래 존재함 - dog 클래스로부터 생성된 모든 객체에서 호출될 수 있다"
   ],
   "metadata": {
    "collapsed": false,
    "pycharm": {
     "name": "#%%\n"
    }
   }
  },
  {
   "cell_type": "markdown",
   "source": [
    "신경망은 연산과 학습을 통해 답을 만들어낸다\n",
    "객체: 신경망\n",
    "함수: 연산과 학습을 통해 답 만들어내는것\n",
    "데이터: 연결 노드의 가중치"
   ],
   "metadata": {
    "collapsed": false
   }
  },
  {
   "cell_type": "code",
   "execution_count": 12,
   "outputs": [],
   "source": [
    "#데이터 변수 추가와 데이터 값 확인 변경 위한 메서드 추가\n",
    "class Dog:\n",
    "    def __init__(self, petname, temp):\n",
    "        self.name=petname\n",
    "        self.temperature=temp\n",
    "    def status(self):\n",
    "        print(\"dog name is \", self.name)\n",
    "        print(\"dog temperature is \", self.temperature)\n",
    "        pass\n",
    "    def setTemperature(self, temp):\n",
    "        self.temperature=temp\n",
    "        pass\n",
    "    def bark(self):\n",
    "        print(\"woof!\")\n",
    "        pass\n",
    "    pass"
   ],
   "metadata": {
    "collapsed": false,
    "pycharm": {
     "name": "#%%\n"
    }
   }
  },
  {
   "cell_type": "markdown",
   "source": [
    "#__init__(): 객체를 생성하는 순간에 무언가를 준비하게 한다.\n",
    "해당 객체가 실제로 사용되기 전 준비 완료 상태를 만듦\n",
    "\n",
    "함수로 전달되는 매개변수 (petname, temp)은 객체의 일부가 된다\n",
    "(self.name, self.temperature)\n",
    "\n",
    "setTemperature: 이 함수가 호출될 때 전달받는 temp이라는 매개변수를 통해 self.temperature 변수의 값 설정\n",
    "객체의 온도를 객체가 생성된 후에도 변경 가능하다"
   ],
   "metadata": {
    "collapsed": false
   }
  },
  {
   "cell_type": "code",
   "execution_count": 14,
   "outputs": [
    {
     "name": "stdout",
     "output_type": "stream",
     "text": [
      "dog name is  Lassie\n",
      "dog temperature is  37\n",
      "dog name is  Lassie\n",
      "dog temperature is  40\n"
     ]
    }
   ],
   "source": [
    "lassie = Dog(\"Lassie\", 37)\n",
    "lassie.status()\n",
    "lassie.setTemperature(40)\n",
    "lassie.status()\n"
   ],
   "metadata": {
    "collapsed": false,
    "pycharm": {
     "name": "#%%\n"
    }
   }
  }
 ],
 "metadata": {
  "kernelspec": {
   "display_name": "Python 3",
   "language": "python",
   "name": "python3"
  },
  "language_info": {
   "codemirror_mode": {
    "name": "ipython",
    "version": 2
   },
   "file_extension": ".py",
   "mimetype": "text/x-python",
   "name": "python",
   "nbconvert_exporter": "python",
   "pygments_lexer": "ipython2",
   "version": "2.7.6"
  }
 },
 "nbformat": 4,
 "nbformat_minor": 0
}